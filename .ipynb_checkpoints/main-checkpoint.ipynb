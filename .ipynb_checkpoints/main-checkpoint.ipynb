{
 "cells": [
  {
   "cell_type": "markdown",
   "id": "816bef2d-5da4-4ce9-8791-6626da74c6ef",
   "metadata": {},
   "source": [
    "# Third Party Library"
   ]
  },
  {
   "cell_type": "code",
   "execution_count": 91,
   "id": "4f1c2421-58a6-4588-abba-bec63c440b61",
   "metadata": {},
   "outputs": [],
   "source": [
    "import pandas as pd\n",
    "import numpy as np\n",
    "import matplotlib.pyplot as plt\n",
    "import ipywidgets as widgets\n",
    "from IPython.display import display\n",
    "from sklearn.metrics import mean_absolute_error, mean_squared_error\n",
    "from sklearn.model_selection import train_test_split\n",
    "from sklearn.multioutput import MultiOutputRegressor\n",
    "from sklearn.neighbors import NearestNeighbors\n",
    "from sklearn.preprocessing import OneHotEncoder\n",
    "from sklearn.svm import SVR"
   ]
  },
  {
   "cell_type": "markdown",
   "id": "1a25af86-710b-4cbb-a081-995b9f323ab4",
   "metadata": {},
   "source": [
    "# Data Reading"
   ]
  },
  {
   "cell_type": "code",
   "execution_count": 92,
   "id": "c9f1a5e9-d446-452a-ac1b-b5c4cbde51e0",
   "metadata": {},
   "outputs": [],
   "source": [
    "registered_ev_file_path = 'Electric_Vehicle_Population_Data.csv'\n",
    "ev_charging_station_file_path = 'EV_Charging_Station_Data.csv'"
   ]
  },
  {
   "cell_type": "markdown",
   "id": "61322910-8032-4dd3-a52d-deb7e904d8ec",
   "metadata": {},
   "source": [
    "Reading Electric_Vehicle_Population_Data.csv file"
   ]
  },
  {
   "cell_type": "code",
   "execution_count": 93,
   "id": "e330e130-a24d-474c-b6df-7e72a1f65a8f",
   "metadata": {},
   "outputs": [],
   "source": [
    "name = ['City', 'State', 'Postal_Code', 'Vehicle Location']\n",
    "df_registered_ev = pd.read_csv(registered_ev_file_path, usecols=name)"
   ]
  },
  {
   "cell_type": "markdown",
   "id": "2762ea9a-82e6-411e-878b-f67edba2df25",
   "metadata": {},
   "source": [
    "Sample data from Electric_Vehicle_Population_Data.csv file"
   ]
  },
  {
   "cell_type": "code",
   "execution_count": 94,
   "id": "09f08669-815f-4153-8ae3-ef2247a2d7c4",
   "metadata": {},
   "outputs": [
    {
     "data": {
      "text/html": [
       "<div>\n",
       "<style scoped>\n",
       "    .dataframe tbody tr th:only-of-type {\n",
       "        vertical-align: middle;\n",
       "    }\n",
       "\n",
       "    .dataframe tbody tr th {\n",
       "        vertical-align: top;\n",
       "    }\n",
       "\n",
       "    .dataframe thead th {\n",
       "        text-align: right;\n",
       "    }\n",
       "</style>\n",
       "<table border=\"1\" class=\"dataframe\">\n",
       "  <thead>\n",
       "    <tr style=\"text-align: right;\">\n",
       "      <th></th>\n",
       "      <th>City</th>\n",
       "      <th>State</th>\n",
       "      <th>Postal_Code</th>\n",
       "      <th>Vehicle Location</th>\n",
       "    </tr>\n",
       "  </thead>\n",
       "  <tbody>\n",
       "    <tr>\n",
       "      <th>0</th>\n",
       "      <td>Seabeck</td>\n",
       "      <td>WA</td>\n",
       "      <td>98380.0</td>\n",
       "      <td>POINT (-122.8728334 47.5798304)</td>\n",
       "    </tr>\n",
       "    <tr>\n",
       "      <th>1</th>\n",
       "      <td>Bremerton</td>\n",
       "      <td>WA</td>\n",
       "      <td>98312.0</td>\n",
       "      <td>POINT (-122.6961203 47.5759584)</td>\n",
       "    </tr>\n",
       "    <tr>\n",
       "      <th>2</th>\n",
       "      <td>Seattle</td>\n",
       "      <td>WA</td>\n",
       "      <td>98101.0</td>\n",
       "      <td>POINT (-122.3340795 47.6099315)</td>\n",
       "    </tr>\n",
       "    <tr>\n",
       "      <th>3</th>\n",
       "      <td>Seattle</td>\n",
       "      <td>WA</td>\n",
       "      <td>98125.0</td>\n",
       "      <td>POINT (-122.304356 47.715668)</td>\n",
       "    </tr>\n",
       "    <tr>\n",
       "      <th>4</th>\n",
       "      <td>Yelm</td>\n",
       "      <td>WA</td>\n",
       "      <td>98597.0</td>\n",
       "      <td>POINT (-122.5715761 46.9095798)</td>\n",
       "    </tr>\n",
       "  </tbody>\n",
       "</table>\n",
       "</div>"
      ],
      "text/plain": [
       "        City State  Postal_Code                 Vehicle Location\n",
       "0    Seabeck    WA      98380.0  POINT (-122.8728334 47.5798304)\n",
       "1  Bremerton    WA      98312.0  POINT (-122.6961203 47.5759584)\n",
       "2    Seattle    WA      98101.0  POINT (-122.3340795 47.6099315)\n",
       "3    Seattle    WA      98125.0    POINT (-122.304356 47.715668)\n",
       "4       Yelm    WA      98597.0  POINT (-122.5715761 46.9095798)"
      ]
     },
     "execution_count": 94,
     "metadata": {},
     "output_type": "execute_result"
    }
   ],
   "source": [
    "df_registered_ev.head(5)"
   ]
  },
  {
   "cell_type": "markdown",
   "id": "a7239945-ecf0-49cb-b948-6347ebae0904",
   "metadata": {},
   "source": [
    "Reading EV_Charging_Station_Data.csv file"
   ]
  },
  {
   "cell_type": "code",
   "execution_count": 95,
   "id": "e6357de3-dc23-4fea-a6a8-d236f5ce2790",
   "metadata": {},
   "outputs": [],
   "source": [
    "name = ['City', 'State', 'Postal_Code', 'Charging Station Location', 'Charge_Stands']\n",
    "df_ev_charging_station = pd.read_csv(ev_charging_station_file_path, usecols=name)"
   ]
  },
  {
   "cell_type": "markdown",
   "id": "b17e3157-7238-4748-ba06-389ffecdb87a",
   "metadata": {},
   "source": [
    "Sample data from EV_Charging_Station_Data.csv file"
   ]
  },
  {
   "cell_type": "code",
   "execution_count": 96,
   "id": "a3bc7579-8bb8-4cbb-9da1-0c931a873a5f",
   "metadata": {},
   "outputs": [
    {
     "data": {
      "text/html": [
       "<div>\n",
       "<style scoped>\n",
       "    .dataframe tbody tr th:only-of-type {\n",
       "        vertical-align: middle;\n",
       "    }\n",
       "\n",
       "    .dataframe tbody tr th {\n",
       "        vertical-align: top;\n",
       "    }\n",
       "\n",
       "    .dataframe thead th {\n",
       "        text-align: right;\n",
       "    }\n",
       "</style>\n",
       "<table border=\"1\" class=\"dataframe\">\n",
       "  <thead>\n",
       "    <tr style=\"text-align: right;\">\n",
       "      <th></th>\n",
       "      <th>City</th>\n",
       "      <th>State</th>\n",
       "      <th>Postal_Code</th>\n",
       "      <th>Charging Station Location</th>\n",
       "      <th>Charge_Stands</th>\n",
       "    </tr>\n",
       "  </thead>\n",
       "  <tbody>\n",
       "    <tr>\n",
       "      <th>0</th>\n",
       "      <td>Poulsbo</td>\n",
       "      <td>WA</td>\n",
       "      <td>98370</td>\n",
       "      <td>47.7774056426997, -122.65904131849484</td>\n",
       "      <td>2</td>\n",
       "    </tr>\n",
       "    <tr>\n",
       "      <th>1</th>\n",
       "      <td>Poulsbo</td>\n",
       "      <td>WA</td>\n",
       "      <td>98370</td>\n",
       "      <td>47.76263764284079, -122.6617879004727</td>\n",
       "      <td>8</td>\n",
       "    </tr>\n",
       "    <tr>\n",
       "      <th>2</th>\n",
       "      <td>Poulsbo</td>\n",
       "      <td>WA</td>\n",
       "      <td>98370</td>\n",
       "      <td>47.746480341201085, -122.64805499058342</td>\n",
       "      <td>4</td>\n",
       "    </tr>\n",
       "    <tr>\n",
       "      <th>3</th>\n",
       "      <td>Suquamish</td>\n",
       "      <td>WA</td>\n",
       "      <td>98392</td>\n",
       "      <td>47.72523740012811, -122.56565753211538</td>\n",
       "      <td>12</td>\n",
       "    </tr>\n",
       "    <tr>\n",
       "      <th>4</th>\n",
       "      <td>Poulsbo</td>\n",
       "      <td>WA</td>\n",
       "      <td>98370</td>\n",
       "      <td>47.76204317882462, -122.65028819485335</td>\n",
       "      <td>2</td>\n",
       "    </tr>\n",
       "  </tbody>\n",
       "</table>\n",
       "</div>"
      ],
      "text/plain": [
       "        City State  Postal_Code                Charging Station Location  \\\n",
       "0    Poulsbo    WA        98370    47.7774056426997, -122.65904131849484   \n",
       "1    Poulsbo    WA        98370    47.76263764284079, -122.6617879004727   \n",
       "2    Poulsbo    WA        98370  47.746480341201085, -122.64805499058342   \n",
       "3  Suquamish    WA        98392   47.72523740012811, -122.56565753211538   \n",
       "4    Poulsbo    WA        98370   47.76204317882462, -122.65028819485335   \n",
       "\n",
       "   Charge_Stands  \n",
       "0              2  \n",
       "1              8  \n",
       "2              4  \n",
       "3             12  \n",
       "4              2  "
      ]
     },
     "execution_count": 96,
     "metadata": {},
     "output_type": "execute_result"
    }
   ],
   "source": [
    "df_ev_charging_station.head(5)"
   ]
  },
  {
   "cell_type": "markdown",
   "id": "bcb156a6-68d5-4487-b931-41692e202e47",
   "metadata": {},
   "source": [
    "# Data Processing"
   ]
  },
  {
   "cell_type": "markdown",
   "id": "2258c226-2348-4563-961e-2bfae75e2fec",
   "metadata": {},
   "source": [
    "### Data Processing Function"
   ]
  },
  {
   "cell_type": "code",
   "execution_count": 97,
   "id": "720283db-c6a8-4cab-b424-14f1f44d38a2",
   "metadata": {},
   "outputs": [],
   "source": [
    "def add_charging_station_density_within_1_mile_radiu(df_ev_charging_station):\n",
    "    radius_miles = 1\n",
    "    radius_radians = radius_miles / 3958.8\n",
    "\n",
    "    # Fit NearestNeighbors to charging stations\n",
    "    nbrs = NearestNeighbors(radius=radius_radians, metric='haversine')\n",
    "    charging_coordinates = np.radians(df_ev_charging_station[['Latitude', 'Longitude']].values)\n",
    "    nbrs.fit(charging_coordinates)\n",
    "    counts = nbrs.radius_neighbors(charging_coordinates, return_distance=False)\n",
    "\n",
    "    # Add the counts to df_ev_charging_station\n",
    "    df_ev_charging_station['Charge_Station_Within_Mile'] = [(len(count)-1) for count in counts]"
   ]
  },
  {
   "cell_type": "code",
   "execution_count": 98,
   "id": "0a920a8d-435f-40d3-99d6-53d33395b07a",
   "metadata": {},
   "outputs": [],
   "source": [
    "def add_ev_density_within_1_mile_radiu(df_ev_charging_station, df_registered_ev):\n",
    "    radius_miles = 1\n",
    "    radius_radians = radius_miles / 3958.8\n",
    "    registered_ev_coordinates = np.radians(df_registered_ev[['Latitude', 'Longitude']].values)\n",
    "    charging_station_coordinates = np.radians(df_ev_charging_station[['Latitude', 'Longitude']].values)\n",
    "    nbrs = NearestNeighbors(radius=radius_radians, metric='haversine')\n",
    "    nbrs.fit(registered_ev_coordinates)\n",
    "    \n",
    "    # Count the number of nearby EV for each charging stations\n",
    "    counts = nbrs.radius_neighbors(charging_station_coordinates, return_distance=False)\n",
    "    \n",
    "    # Add the counts to df_ev_charging_station\n",
    "    df_ev_charging_station['EV_Count_Within_Mile'] = [len(count) for count in counts]"
   ]
  },
  {
   "cell_type": "markdown",
   "id": "84a12232-ac3d-4967-9472-3ee57b01ec69",
   "metadata": {},
   "source": [
    "### Clean The Data"
   ]
  },
  {
   "cell_type": "markdown",
   "id": "86a37f90-87b7-42c1-92fa-b73b83d81f4c",
   "metadata": {},
   "source": [
    "- Check for NA value:"
   ]
  },
  {
   "cell_type": "code",
   "execution_count": 99,
   "id": "638b63d4-8a6c-4875-b95c-0ffdc041bee1",
   "metadata": {
    "scrolled": true
   },
   "outputs": [
    {
     "data": {
      "text/plain": [
       "City                3\n",
       "State               0\n",
       "Postal_Code         3\n",
       "Vehicle Location    8\n",
       "dtype: int64"
      ]
     },
     "execution_count": 99,
     "metadata": {},
     "output_type": "execute_result"
    }
   ],
   "source": [
    "df_registered_ev.isna().sum()"
   ]
  },
  {
   "cell_type": "code",
   "execution_count": 100,
   "id": "190d3800-a408-4d28-99de-249255cbae0f",
   "metadata": {
    "scrolled": true
   },
   "outputs": [
    {
     "data": {
      "text/plain": [
       "City                         0\n",
       "State                        0\n",
       "Postal_Code                  0\n",
       "Charging Station Location    0\n",
       "Charge_Stands                0\n",
       "dtype: int64"
      ]
     },
     "execution_count": 100,
     "metadata": {},
     "output_type": "execute_result"
    }
   ],
   "source": [
    "df_ev_charging_station.isna().sum()"
   ]
  },
  {
   "cell_type": "markdown",
   "id": "c5617b69-39d2-4f7c-8195-4218c179d009",
   "metadata": {},
   "source": [
    "- Check and update invalid values in DataFrame:"
   ]
  },
  {
   "cell_type": "code",
   "execution_count": 101,
   "id": "d63f1de9-8c6a-4ba1-b9d0-52573545bade",
   "metadata": {
    "scrolled": true
   },
   "outputs": [
    {
     "data": {
      "text/html": [
       "<div>\n",
       "<style scoped>\n",
       "    .dataframe tbody tr th:only-of-type {\n",
       "        vertical-align: middle;\n",
       "    }\n",
       "\n",
       "    .dataframe tbody tr th {\n",
       "        vertical-align: top;\n",
       "    }\n",
       "\n",
       "    .dataframe thead th {\n",
       "        text-align: right;\n",
       "    }\n",
       "</style>\n",
       "<table border=\"1\" class=\"dataframe\">\n",
       "  <thead>\n",
       "    <tr style=\"text-align: right;\">\n",
       "      <th></th>\n",
       "      <th>City</th>\n",
       "      <th>State</th>\n",
       "      <th>Postal_Code</th>\n",
       "      <th>Vehicle Location</th>\n",
       "    </tr>\n",
       "  </thead>\n",
       "  <tbody>\n",
       "    <tr>\n",
       "      <th>26697</th>\n",
       "      <td>Platte City</td>\n",
       "      <td>MO</td>\n",
       "      <td>64079.0</td>\n",
       "      <td>POINT (-94.7758051 39.3549561)</td>\n",
       "    </tr>\n",
       "    <tr>\n",
       "      <th>33457</th>\n",
       "      <td>Seaside</td>\n",
       "      <td>CA</td>\n",
       "      <td>93955.0</td>\n",
       "      <td>POINT (-121.831434 36.614732)</td>\n",
       "    </tr>\n",
       "    <tr>\n",
       "      <th>38814</th>\n",
       "      <td>Norfolk</td>\n",
       "      <td>VA</td>\n",
       "      <td>23503.0</td>\n",
       "      <td>POINT (-76.251684 36.942546)</td>\n",
       "    </tr>\n",
       "    <tr>\n",
       "      <th>40765</th>\n",
       "      <td>Fayetteville</td>\n",
       "      <td>NC</td>\n",
       "      <td>28312.0</td>\n",
       "      <td>POINT (-78.780926 35.019816)</td>\n",
       "    </tr>\n",
       "    <tr>\n",
       "      <th>42678</th>\n",
       "      <td>Upper Marlboro</td>\n",
       "      <td>MD</td>\n",
       "      <td>20774.0</td>\n",
       "      <td>POINT (-76.8100874 38.8903361)</td>\n",
       "    </tr>\n",
       "    <tr>\n",
       "      <th>...</th>\n",
       "      <td>...</td>\n",
       "      <td>...</td>\n",
       "      <td>...</td>\n",
       "      <td>...</td>\n",
       "    </tr>\n",
       "    <tr>\n",
       "      <th>204210</th>\n",
       "      <td>San Antonio</td>\n",
       "      <td>TX</td>\n",
       "      <td>78261.0</td>\n",
       "      <td>POINT (-98.4154843 29.6721151)</td>\n",
       "    </tr>\n",
       "    <tr>\n",
       "      <th>204576</th>\n",
       "      <td>Coronado</td>\n",
       "      <td>CA</td>\n",
       "      <td>92118.0</td>\n",
       "      <td>POINT (-117.170566 32.684631)</td>\n",
       "    </tr>\n",
       "    <tr>\n",
       "      <th>204733</th>\n",
       "      <td>Colorado Springs</td>\n",
       "      <td>CO</td>\n",
       "      <td>80906.0</td>\n",
       "      <td>POINT (-104.819948 38.788438)</td>\n",
       "    </tr>\n",
       "    <tr>\n",
       "      <th>205115</th>\n",
       "      <td>Greenfield Center</td>\n",
       "      <td>NY</td>\n",
       "      <td>12833.0</td>\n",
       "      <td>POINT (-73.845094 43.12833)</td>\n",
       "    </tr>\n",
       "    <tr>\n",
       "      <th>205239</th>\n",
       "      <td>Fort Benning</td>\n",
       "      <td>GA</td>\n",
       "      <td>31905.0</td>\n",
       "      <td>POINT (-84.9387736 32.3658211)</td>\n",
       "    </tr>\n",
       "  </tbody>\n",
       "</table>\n",
       "<p>442 rows × 4 columns</p>\n",
       "</div>"
      ],
      "text/plain": [
       "                     City State  Postal_Code                Vehicle Location\n",
       "26697         Platte City    MO      64079.0  POINT (-94.7758051 39.3549561)\n",
       "33457             Seaside    CA      93955.0   POINT (-121.831434 36.614732)\n",
       "38814             Norfolk    VA      23503.0    POINT (-76.251684 36.942546)\n",
       "40765        Fayetteville    NC      28312.0    POINT (-78.780926 35.019816)\n",
       "42678      Upper Marlboro    MD      20774.0  POINT (-76.8100874 38.8903361)\n",
       "...                   ...   ...          ...                             ...\n",
       "204210        San Antonio    TX      78261.0  POINT (-98.4154843 29.6721151)\n",
       "204576           Coronado    CA      92118.0   POINT (-117.170566 32.684631)\n",
       "204733   Colorado Springs    CO      80906.0   POINT (-104.819948 38.788438)\n",
       "205115  Greenfield Center    NY      12833.0     POINT (-73.845094 43.12833)\n",
       "205239       Fort Benning    GA      31905.0  POINT (-84.9387736 32.3658211)\n",
       "\n",
       "[442 rows x 4 columns]"
      ]
     },
     "execution_count": 101,
     "metadata": {},
     "output_type": "execute_result"
    }
   ],
   "source": [
    "df_registered_ev.query(\"State != 'WA'\")"
   ]
  },
  {
   "cell_type": "code",
   "execution_count": 102,
   "id": "4a3e9a3f-4f0d-4abe-bbc2-b0ed96cc3dfc",
   "metadata": {},
   "outputs": [],
   "source": [
    "df_registered_ev.drop(df_registered_ev[df_registered_ev['State'] != 'WA'].index, inplace=True)"
   ]
  },
  {
   "cell_type": "code",
   "execution_count": 103,
   "id": "24886c51-d28f-4780-a299-04dc1a098f9f",
   "metadata": {},
   "outputs": [
    {
     "data": {
      "text/html": [
       "<div>\n",
       "<style scoped>\n",
       "    .dataframe tbody tr th:only-of-type {\n",
       "        vertical-align: middle;\n",
       "    }\n",
       "\n",
       "    .dataframe tbody tr th {\n",
       "        vertical-align: top;\n",
       "    }\n",
       "\n",
       "    .dataframe thead th {\n",
       "        text-align: right;\n",
       "    }\n",
       "</style>\n",
       "<table border=\"1\" class=\"dataframe\">\n",
       "  <thead>\n",
       "    <tr style=\"text-align: right;\">\n",
       "      <th></th>\n",
       "      <th>City</th>\n",
       "      <th>State</th>\n",
       "      <th>Postal_Code</th>\n",
       "      <th>Vehicle Location</th>\n",
       "    </tr>\n",
       "  </thead>\n",
       "  <tbody>\n",
       "    <tr>\n",
       "      <th>138046</th>\n",
       "      <td>Long Beach</td>\n",
       "      <td>WA</td>\n",
       "      <td>98634.0</td>\n",
       "      <td>NaN</td>\n",
       "    </tr>\n",
       "    <tr>\n",
       "      <th>148503</th>\n",
       "      <td>Long Beach</td>\n",
       "      <td>WA</td>\n",
       "      <td>98634.0</td>\n",
       "      <td>NaN</td>\n",
       "    </tr>\n",
       "    <tr>\n",
       "      <th>176278</th>\n",
       "      <td>Long Beach</td>\n",
       "      <td>WA</td>\n",
       "      <td>98634.0</td>\n",
       "      <td>NaN</td>\n",
       "    </tr>\n",
       "    <tr>\n",
       "      <th>178268</th>\n",
       "      <td>Long Beach</td>\n",
       "      <td>WA</td>\n",
       "      <td>98634.0</td>\n",
       "      <td>NaN</td>\n",
       "    </tr>\n",
       "    <tr>\n",
       "      <th>178396</th>\n",
       "      <td>Long Beach</td>\n",
       "      <td>WA</td>\n",
       "      <td>98634.0</td>\n",
       "      <td>NaN</td>\n",
       "    </tr>\n",
       "  </tbody>\n",
       "</table>\n",
       "</div>"
      ],
      "text/plain": [
       "              City State  Postal_Code Vehicle Location\n",
       "138046  Long Beach    WA      98634.0              NaN\n",
       "148503  Long Beach    WA      98634.0              NaN\n",
       "176278  Long Beach    WA      98634.0              NaN\n",
       "178268  Long Beach    WA      98634.0              NaN\n",
       "178396  Long Beach    WA      98634.0              NaN"
      ]
     },
     "execution_count": 103,
     "metadata": {},
     "output_type": "execute_result"
    }
   ],
   "source": [
    "df_registered_ev[df_registered_ev['Vehicle Location'].isna()]"
   ]
  },
  {
   "cell_type": "code",
   "execution_count": 104,
   "id": "bd8617fb-0321-4233-9fac-2cb870d29ece",
   "metadata": {},
   "outputs": [],
   "source": [
    "df_registered_ev = df_registered_ev.dropna(subset=['Vehicle Location'])"
   ]
  },
  {
   "cell_type": "code",
   "execution_count": 105,
   "id": "2d9b43a9-c895-45fc-9477-afd165315caf",
   "metadata": {},
   "outputs": [
    {
     "data": {
      "text/plain": [
       "City                0\n",
       "State               0\n",
       "Postal_Code         0\n",
       "Vehicle Location    0\n",
       "dtype: int64"
      ]
     },
     "execution_count": 105,
     "metadata": {},
     "output_type": "execute_result"
    }
   ],
   "source": [
    "df_registered_ev.isna().sum()"
   ]
  },
  {
   "cell_type": "markdown",
   "id": "0d482f21-e14d-49e1-9866-df2d5a2b5331",
   "metadata": {},
   "source": [
    "### Transform TheData"
   ]
  },
  {
   "cell_type": "markdown",
   "id": "446918b8-ecda-4b27-8197-d8947e3e54ac",
   "metadata": {},
   "source": [
    "- Covert location into Longitude and Latitude"
   ]
  },
  {
   "cell_type": "code",
   "execution_count": 106,
   "id": "59c66457-b19b-4fe0-9fe7-b81a99e5daff",
   "metadata": {},
   "outputs": [],
   "source": [
    "# Extract Longitude and Latitude from 'Vehicle Location'\n",
    "df_registered_ev[['Longitude', 'Latitude']] = df_registered_ev['Vehicle Location'].str.extract(\n",
    "    r'POINT \\(([^ ]+) 'r'([^ ]+)\\)')"
   ]
  },
  {
   "cell_type": "code",
   "execution_count": 107,
   "id": "f8e4907f-13b2-4919-89cf-780697386652",
   "metadata": {
    "scrolled": true
   },
   "outputs": [],
   "source": [
    "# Extract Longitude and Latitude from 'Charging Station Location'\n",
    "df_ev_charging_station[['Latitude', 'Longitude']] = df_ev_charging_station['Charging Station Location'].str.extract(\n",
    "    r'([\\d.-]+), ([\\d.-]+)')"
   ]
  },
  {
   "cell_type": "code",
   "execution_count": 108,
   "id": "4236f927-c6bb-44d4-aa99-41c0a9b6f919",
   "metadata": {},
   "outputs": [],
   "source": [
    "df_registered_ev = df_registered_ev.drop(columns=['Vehicle Location'])\n",
    "df_ev_charging_station = df_ev_charging_station.drop(columns=['Charging Station Location'])"
   ]
  },
  {
   "cell_type": "code",
   "execution_count": 109,
   "id": "eb7709bc-ca3f-4cc8-8b8b-47cc1efaeab4",
   "metadata": {},
   "outputs": [],
   "source": [
    "# Transfer correct data type for the columns\n",
    "df_registered_ev['Postal_Code'] = df_registered_ev['Postal_Code'].astype(int)\n",
    "df_registered_ev['Latitude'] = pd.to_numeric(df_registered_ev['Latitude'], errors='coerce')\n",
    "df_registered_ev['Longitude'] = pd.to_numeric(df_registered_ev['Longitude'], errors='coerce')\n",
    "df_ev_charging_station['Latitude'] = pd.to_numeric(df_ev_charging_station['Latitude'], errors='coerce')\n",
    "df_ev_charging_station['Longitude'] = pd.to_numeric(df_ev_charging_station['Longitude'], errors='coerce')"
   ]
  },
  {
   "cell_type": "markdown",
   "id": "8515d9fa-1783-4024-9a31-fba2d201941a",
   "metadata": {},
   "source": [
    "    Distribution of Registered EV and Charging Station"
   ]
  },
  {
   "cell_type": "code",
   "execution_count": 110,
   "id": "d9344cc0-2a06-4bf1-a5ef-c35fb7c183a2",
   "metadata": {},
   "outputs": [
    {
     "data": {
      "image/png": "[encoded data removed]",
      "text/plain": [
       "<Figure size 1000x600 with 1 Axes>"
      ]
     },
     "metadata": {},
     "output_type": "display_data"
    }
   ],
   "source": [
    "# Create a scatter plot\n",
    "plt.figure(figsize=(10, 6))\n",
    "\n",
    "# Plot the first set of coordinates\n",
    "plt.scatter(df_ev_charging_station['Longitude'], df_ev_charging_station['Latitude'], color='blue', label='charging_station')\n",
    "\n",
    "# Plot the second set of coordinates\n",
    "plt.scatter(df_registered_ev['Longitude'], df_registered_ev['Latitude'], color='red', label='registered_ev')\n",
    "\n",
    "# Add labels and title\n",
    "plt.title('registered_ev vs charging_station')\n",
    "plt.xlabel('Longitude')\n",
    "plt.ylabel('Latitude')\n",
    "\n",
    "# Add a legend\n",
    "plt.legend()\n",
    "\n",
    "# Show the plot\n",
    "plt.grid()\n",
    "plt.show()"
   ]
  },
  {
   "cell_type": "markdown",
   "id": "489d8dff-05bb-41ee-9ba0-eca885f7be19",
   "metadata": {},
   "source": [
    "- Feature Engineering:"
   ]
  },
  {
   "cell_type": "code",
   "execution_count": 111,
   "id": "12949789-b357-4b7a-9155-9047bba810fc",
   "metadata": {},
   "outputs": [],
   "source": [
    "df_ev_charging_station['Charge_Stations_Postal'] = df_ev_charging_station.groupby(['City', 'State', 'Postal_Code']).transform('size')\n",
    "charging_station_total = df_ev_charging_station.groupby(['City', 'State'])['Charge_Stations_Postal'].sum().reset_index(name='Charge_Stations_City')\n",
    "df_ev_charging_station = pd.merge(df_ev_charging_station, charging_station_total, on=['City', 'State'], how='left')"
   ]
  },
  {
   "cell_type": "code",
   "execution_count": 112,
   "id": "68d3bc03-d9ef-4aa5-9882-7d760669f6e3",
   "metadata": {},
   "outputs": [],
   "source": [
    "df_ev_charging_station['Charge_Stands_City'] = df_ev_charging_station.groupby(['City', 'State', 'Postal_Code'])['Charge_Stands'].transform('sum')"
   ]
  },
  {
   "cell_type": "code",
   "execution_count": 113,
   "id": "7de8f2b2-42c4-484d-9033-31c8d0b60dfe",
   "metadata": {},
   "outputs": [],
   "source": [
    "ev_count = df_registered_ev.groupby(['City', 'State', 'Postal_Code']).size().reset_index(name='EV_Count_Postal')\n",
    "ev_count_total = ev_count.groupby(['City', 'State'])['EV_Count_Postal'].sum().reset_index(name='EV_Count_City')\n",
    "ev_count = pd.merge(ev_count_total, ev_count, on=['City', 'State'], how='left')"
   ]
  },
  {
   "cell_type": "code",
   "execution_count": 114,
   "id": "39ba684a-2d2b-4eb1-9808-c05a3af13d55",
   "metadata": {},
   "outputs": [
    {
     "data": {
      "text/plain": [
       "City                       0\n",
       "State                      0\n",
       "Postal_Code                0\n",
       "Charge_Stands              0\n",
       "Latitude                   0\n",
       "Longitude                  0\n",
       "Charge_Stations_Postal     0\n",
       "Charge_Stations_City       0\n",
       "Charge_Stands_City         0\n",
       "EV_Count_City             24\n",
       "EV_Count_Postal           24\n",
       "dtype: int64"
      ]
     },
     "execution_count": 114,
     "metadata": {},
     "output_type": "execute_result"
    }
   ],
   "source": [
    "# Merge EV Count\n",
    "df_ev_charging_station = pd.merge(df_ev_charging_station, ev_count, on=['City', 'State', 'Postal_Code'], how='left')\n",
    "# Check For NA values\n",
    "df_ev_charging_station.isna().sum()"
   ]
  },
  {
   "cell_type": "code",
   "execution_count": 115,
   "id": "4a1a07ca-47cc-48dc-ab88-919e049fa4ac",
   "metadata": {},
   "outputs": [
    {
     "data": {
      "text/plain": [
       "City                      0\n",
       "State                     0\n",
       "Postal_Code               0\n",
       "Charge_Stands             0\n",
       "Latitude                  0\n",
       "Longitude                 0\n",
       "Charge_Stations_Postal    0\n",
       "Charge_Stations_City      0\n",
       "Charge_Stands_City        0\n",
       "EV_Count_City             0\n",
       "EV_Count_Postal           0\n",
       "dtype: int64"
      ]
     },
     "execution_count": 115,
     "metadata": {},
     "output_type": "execute_result"
    }
   ],
   "source": [
    "# replace NA with 0\n",
    "df_ev_charging_station.fillna({'EV_Count_Postal': 0,'EV_Count_City': 0}, inplace=True)\n",
    "df_ev_charging_station.isna().sum()"
   ]
  },
  {
   "cell_type": "code",
   "execution_count": 116,
   "id": "4d93c3fd-4958-4017-a979-de01984d8c50",
   "metadata": {},
   "outputs": [],
   "source": [
    "df_ev_charging_station['EV_Count_Postal']=df_ev_charging_station['EV_Count_Postal'].astype(int)\n",
    "df_ev_charging_station['EV_Count_City']=df_ev_charging_station['EV_Count_City'].astype(int)"
   ]
  },
  {
   "cell_type": "code",
   "execution_count": 117,
   "id": "84f6d24e-739a-49a1-a3a9-3c5e068cc2a9",
   "metadata": {},
   "outputs": [
    {
     "data": {
      "image/png": "[encoded data removed]",
      "text/plain": [
       "<Figure size 1000x600 with 1 Axes>"
      ]
     },
     "metadata": {},
     "output_type": "display_data"
    }
   ],
   "source": [
    "combine_df = pd.merge(ev_count_total, charging_station_total, on=['City'], how='left')\n",
    "combine_df = combine_df[['City', 'EV_Count_City', 'Charge_Stations_City']]\n",
    "combine_df.fillna({'EV_Count_City': 0,'Charge_Stations_City': 0}, inplace=True)\n",
    "combine_df['Charge_Stations_City']=combine_df['Charge_Stations_City'].astype(int)\n",
    "\n",
    "sorted_df = combine_df.sort_values(by='EV_Count_City', ascending=False)\n",
    "sorted_df = sorted_df.head(20)\n",
    "\n",
    "plt.figure(figsize=(10, 6))\n",
    "plt.bar(sorted_df['City'], sorted_df['EV_Count_City'], color='blue')\n",
    "\n",
    "# Step 3: Customize the plot\n",
    "plt.title('Top 20 City with most registered EV Counts')\n",
    "plt.xlabel('City')\n",
    "plt.ylabel('Number of Registered EVs')\n",
    "plt.xticks(rotation=45)  # Rotate city names for better readability\n",
    "plt.grid(axis='y')\n",
    "\n",
    "# Step 4: Show the plot\n",
    "plt.ylim(0, max(sorted_df['EV_Count_City']) + 1000)  # Adjust y-axis limit\n",
    "plt.show()"
   ]
  },
  {
   "cell_type": "code",
   "execution_count": 118,
   "id": "07370dfc-e631-40f0-971b-817b0d988800",
   "metadata": {},
   "outputs": [
    {
     "data": {
      "image/png": "[encoded data removed]",
      "text/plain": [
       "<Figure size 1000x600 with 1 Axes>"
      ]
     },
     "metadata": {},
     "output_type": "display_data"
    }
   ],
   "source": [
    "sorted_df = combine_df.sort_values(by='Charge_Stations_City', ascending=False)\n",
    "sorted_df = sorted_df.head(20)\n",
    "\n",
    "plt.figure(figsize=(10, 6))\n",
    "plt.bar(sorted_df['City'], sorted_df['Charge_Stations_City'], color='blue')\n",
    "\n",
    "# Step 3: Customize the plot\n",
    "plt.title('Top 20 City with most charging stations')\n",
    "plt.xlabel('City')\n",
    "plt.ylabel('Number of charging station')\n",
    "plt.xticks(rotation=45)  # Rotate city names for better readability\n",
    "plt.grid(axis='y')\n",
    "\n",
    "# Step 4: Show the plot\n",
    "plt.ylim(0, max(sorted_df['Charge_Stations_City']) + 50)  # Adjust y-axis limit\n",
    "plt.show()"
   ]
  },
  {
   "cell_type": "code",
   "execution_count": 119,
   "id": "c2c6ef24-80e1-4fe1-9e5a-da77bfefbb38",
   "metadata": {},
   "outputs": [],
   "source": [
    "add_charging_station_density_within_1_mile_radiu(df_ev_charging_station)"
   ]
  },
  {
   "cell_type": "code",
   "execution_count": 120,
   "id": "f3410be3-2cd9-4692-83f0-e173b968c7de",
   "metadata": {},
   "outputs": [],
   "source": [
    "add_ev_density_within_1_mile_radiu(df_ev_charging_station, df_registered_ev)"
   ]
  },
  {
   "cell_type": "code",
   "execution_count": 121,
   "id": "a1616287-f48e-44fb-bc62-5b165fe241d5",
   "metadata": {},
   "outputs": [],
   "source": [
    "df_ev_charging_station = df_ev_charging_station.drop(columns=['State'])"
   ]
  },
  {
   "cell_type": "markdown",
   "id": "52933361-2eca-4a77-9069-b6ff93869e2d",
   "metadata": {},
   "source": [
    "- Using one hot encoder to transfer city into numeric data"
   ]
  },
  {
   "cell_type": "code",
   "execution_count": 122,
   "id": "26936117-1245-4b73-9498-55987ae68d44",
   "metadata": {},
   "outputs": [],
   "source": [
    "ohe = OneHotEncoder(handle_unknown='ignore', sparse_output=False).set_output(transform='pandas')"
   ]
  },
  {
   "cell_type": "code",
   "execution_count": 123,
   "id": "52c791d1-c018-41ef-a491-b63bb55b821b",
   "metadata": {},
   "outputs": [],
   "source": [
    "transformed_df_ev_charging_station = ohe.fit_transform(df_ev_charging_station[['City']])\n",
    "transformed_df_ev_charging_station = pd.concat([transformed_df_ev_charging_station, df_ev_charging_station], axis=1)"
   ]
  },
  {
   "cell_type": "code",
   "execution_count": 124,
   "id": "27185c1c-07ee-4432-9a25-ca210fb707b2",
   "metadata": {},
   "outputs": [
    {
     "data": {
      "text/html": [
       "<div>\n",
       "<style scoped>\n",
       "    .dataframe tbody tr th:only-of-type {\n",
       "        vertical-align: middle;\n",
       "    }\n",
       "\n",
       "    .dataframe tbody tr th {\n",
       "        vertical-align: top;\n",
       "    }\n",
       "\n",
       "    .dataframe thead th {\n",
       "        text-align: right;\n",
       "    }\n",
       "</style>\n",
       "<table border=\"1\" class=\"dataframe\">\n",
       "  <thead>\n",
       "    <tr style=\"text-align: right;\">\n",
       "      <th></th>\n",
       "      <th>City</th>\n",
       "      <th>Postal_Code</th>\n",
       "      <th>Charge_Stands</th>\n",
       "      <th>Latitude</th>\n",
       "      <th>Longitude</th>\n",
       "      <th>Charge_Stations_Postal</th>\n",
       "      <th>Charge_Stations_City</th>\n",
       "      <th>Charge_Stands_City</th>\n",
       "      <th>EV_Count_City</th>\n",
       "      <th>EV_Count_Postal</th>\n",
       "      <th>Charge_Station_Within_Mile</th>\n",
       "      <th>EV_Count_Within_Mile</th>\n",
       "    </tr>\n",
       "  </thead>\n",
       "  <tbody>\n",
       "    <tr>\n",
       "      <th>0</th>\n",
       "      <td>Poulsbo</td>\n",
       "      <td>98370</td>\n",
       "      <td>2</td>\n",
       "      <td>47.777406</td>\n",
       "      <td>-122.659041</td>\n",
       "      <td>7</td>\n",
       "      <td>49</td>\n",
       "      <td>24</td>\n",
       "      <td>840</td>\n",
       "      <td>839</td>\n",
       "      <td>0</td>\n",
       "      <td>0</td>\n",
       "    </tr>\n",
       "    <tr>\n",
       "      <th>1</th>\n",
       "      <td>Poulsbo</td>\n",
       "      <td>98370</td>\n",
       "      <td>8</td>\n",
       "      <td>47.762638</td>\n",
       "      <td>-122.661788</td>\n",
       "      <td>7</td>\n",
       "      <td>49</td>\n",
       "      <td>24</td>\n",
       "      <td>840</td>\n",
       "      <td>839</td>\n",
       "      <td>1</td>\n",
       "      <td>0</td>\n",
       "    </tr>\n",
       "    <tr>\n",
       "      <th>2</th>\n",
       "      <td>Poulsbo</td>\n",
       "      <td>98370</td>\n",
       "      <td>4</td>\n",
       "      <td>47.746480</td>\n",
       "      <td>-122.648055</td>\n",
       "      <td>7</td>\n",
       "      <td>49</td>\n",
       "      <td>24</td>\n",
       "      <td>840</td>\n",
       "      <td>839</td>\n",
       "      <td>3</td>\n",
       "      <td>850</td>\n",
       "    </tr>\n",
       "    <tr>\n",
       "      <th>3</th>\n",
       "      <td>Suquamish</td>\n",
       "      <td>98392</td>\n",
       "      <td>12</td>\n",
       "      <td>47.725237</td>\n",
       "      <td>-122.565658</td>\n",
       "      <td>2</td>\n",
       "      <td>4</td>\n",
       "      <td>14</td>\n",
       "      <td>77</td>\n",
       "      <td>77</td>\n",
       "      <td>0</td>\n",
       "      <td>78</td>\n",
       "    </tr>\n",
       "    <tr>\n",
       "      <th>4</th>\n",
       "      <td>Poulsbo</td>\n",
       "      <td>98370</td>\n",
       "      <td>2</td>\n",
       "      <td>47.762043</td>\n",
       "      <td>-122.650288</td>\n",
       "      <td>7</td>\n",
       "      <td>49</td>\n",
       "      <td>24</td>\n",
       "      <td>840</td>\n",
       "      <td>839</td>\n",
       "      <td>1</td>\n",
       "      <td>0</td>\n",
       "    </tr>\n",
       "  </tbody>\n",
       "</table>\n",
       "</div>"
      ],
      "text/plain": [
       "        City  Postal_Code  Charge_Stands   Latitude   Longitude  \\\n",
       "0    Poulsbo        98370              2  47.777406 -122.659041   \n",
       "1    Poulsbo        98370              8  47.762638 -122.661788   \n",
       "2    Poulsbo        98370              4  47.746480 -122.648055   \n",
       "3  Suquamish        98392             12  47.725237 -122.565658   \n",
       "4    Poulsbo        98370              2  47.762043 -122.650288   \n",
       "\n",
       "   Charge_Stations_Postal  Charge_Stations_City  Charge_Stands_City  \\\n",
       "0                       7                    49                  24   \n",
       "1                       7                    49                  24   \n",
       "2                       7                    49                  24   \n",
       "3                       2                     4                  14   \n",
       "4                       7                    49                  24   \n",
       "\n",
       "   EV_Count_City  EV_Count_Postal  Charge_Station_Within_Mile  \\\n",
       "0            840              839                           0   \n",
       "1            840              839                           1   \n",
       "2            840              839                           3   \n",
       "3             77               77                           0   \n",
       "4            840              839                           1   \n",
       "\n",
       "   EV_Count_Within_Mile  \n",
       "0                     0  \n",
       "1                     0  \n",
       "2                   850  \n",
       "3                    78  \n",
       "4                     0  "
      ]
     },
     "execution_count": 124,
     "metadata": {},
     "output_type": "execute_result"
    }
   ],
   "source": [
    "df_ev_charging_station.head(5)"
   ]
  },
  {
   "cell_type": "markdown",
   "id": "8e636acd-06fc-4047-acaa-1be70d972d65",
   "metadata": {},
   "source": [
    "### Split The Data"
   ]
  },
  {
   "cell_type": "code",
   "execution_count": 125,
   "id": "02cd5da1-d5f2-4f26-902e-2912b1647235",
   "metadata": {},
   "outputs": [],
   "source": [
    "y = transformed_df_ev_charging_station[['Latitude','Longitude']]\n",
    "X = transformed_df_ev_charging_station.drop(columns=['Latitude','Longitude','City'])"
   ]
  },
  {
   "cell_type": "code",
   "execution_count": 126,
   "id": "9e62077d-0cae-4475-bfe2-7f6e1a2e3d44",
   "metadata": {},
   "outputs": [],
   "source": [
    "X_train, X_test, y_train, y_test = train_test_split(X, y, test_size=0.2, random_state=42)"
   ]
  },
  {
   "cell_type": "markdown",
   "id": "20d863d0-b441-4b9e-b3b2-29144b5662a7",
   "metadata": {},
   "source": [
    "# Model Training"
   ]
  },
  {
   "cell_type": "code",
   "execution_count": 127,
   "id": "3e89e0e4-c0f6-4306-83ab-f8272dbed953",
   "metadata": {},
   "outputs": [],
   "source": [
    "svr_model = MultiOutputRegressor(SVR(kernel='rbf'))"
   ]
  },
  {
   "cell_type": "code",
   "execution_count": 128,
   "id": "84d22a86-3177-4b8b-9b1f-02d887b5fe9d",
   "metadata": {},
   "outputs": [
    {
     "data": {
      "text/html": [
       "<style>#sk-container-id-3 {\n",
       "  /* Definition of color scheme common for light and dark mode */\n",
       "  --sklearn-color-text: black;\n",
       "  --sklearn-color-line: gray;\n",
       "  /* Definition of color scheme for unfitted estimators */\n",
       "  --sklearn-color-unfitted-level-0: #fff5e6;\n",
       "  --sklearn-color-unfitted-level-1: #f6e4d2;\n",
       "  --sklearn-color-unfitted-level-2: #ffe0b3;\n",
       "  --sklearn-color-unfitted-level-3: chocolate;\n",
       "  /* Definition of color scheme for fitted estimators */\n",
       "  --sklearn-color-fitted-level-0: #f0f8ff;\n",
       "  --sklearn-color-fitted-level-1: #d4ebff;\n",
       "  --sklearn-color-fitted-level-2: #b3dbfd;\n",
       "  --sklearn-color-fitted-level-3: cornflowerblue;\n",
       "\n",
       "  /* Specific color for light theme */\n",
       "  --sklearn-color-text-on-default-background: var(--sg-text-color, var(--theme-code-foreground, var(--jp-content-font-color1, black)));\n",
       "  --sklearn-color-background: var(--sg-background-color, var(--theme-background, var(--jp-layout-color0, white)));\n",
       "  --sklearn-color-border-box: var(--sg-text-color, var(--theme-code-foreground, var(--jp-content-font-color1, black)));\n",
       "  --sklearn-color-icon: #696969;\n",
       "\n",
       "  @media (prefers-color-scheme: dark) {\n",
       "    /* Redefinition of color scheme for dark theme */\n",
       "    --sklearn-color-text-on-default-background: var(--sg-text-color, var(--theme-code-foreground, var(--jp-content-font-color1, white)));\n",
       "    --sklearn-color-background: var(--sg-background-color, var(--theme-background, var(--jp-layout-color0, #111)));\n",
       "    --sklearn-color-border-box: var(--sg-text-color, var(--theme-code-foreground, var(--jp-content-font-color1, white)));\n",
       "    --sklearn-color-icon: #878787;\n",
       "  }\n",
       "}\n",
       "\n",
       "#sk-container-id-3 {\n",
       "  color: var(--sklearn-color-text);\n",
       "}\n",
       "\n",
       "#sk-container-id-3 pre {\n",
       "  padding: 0;\n",
       "}\n",
       "\n",
       "#sk-container-id-3 input.sk-hidden--visually {\n",
       "  border: 0;\n",
       "  clip: rect(1px 1px 1px 1px);\n",
       "  clip: rect(1px, 1px, 1px, 1px);\n",
       "  height: 1px;\n",
       "  margin: -1px;\n",
       "  overflow: hidden;\n",
       "  padding: 0;\n",
       "  position: absolute;\n",
       "  width: 1px;\n",
       "}\n",
       "\n",
       "#sk-container-id-3 div.sk-dashed-wrapped {\n",
       "  border: 1px dashed var(--sklearn-color-line);\n",
       "  margin: 0 0.4em 0.5em 0.4em;\n",
       "  box-sizing: border-box;\n",
       "  padding-bottom: 0.4em;\n",
       "  background-color: var(--sklearn-color-background);\n",
       "}\n",
       "\n",
       "#sk-container-id-3 div.sk-container {\n",
       "  /* jupyter's `normalize.less` sets `[hidden] { display: none; }`\n",
       "     but bootstrap.min.css set `[hidden] { display: none !important; }`\n",
       "     so we also need the `!important` here to be able to override the\n",
       "     default hidden behavior on the sphinx rendered scikit-learn.org.\n",
       "     See: https://github.com/scikit-learn/scikit-learn/issues/21755 */\n",
       "  display: inline-block !important;\n",
       "  position: relative;\n",
       "}\n",
       "\n",
       "#sk-container-id-3 div.sk-text-repr-fallback {\n",
       "  display: none;\n",
       "}\n",
       "\n",
       "div.sk-parallel-item,\n",
       "div.sk-serial,\n",
       "div.sk-item {\n",
       "  /* draw centered vertical line to link estimators */\n",
       "  background-image: linear-gradient(var(--sklearn-color-text-on-default-background), var(--sklearn-color-text-on-default-background));\n",
       "  background-size: 2px 100%;\n",
       "  background-repeat: no-repeat;\n",
       "  background-position: center center;\n",
       "}\n",
       "\n",
       "/* Parallel-specific style estimator block */\n",
       "\n",
       "#sk-container-id-3 div.sk-parallel-item::after {\n",
       "  content: \"\";\n",
       "  width: 100%;\n",
       "  border-bottom: 2px solid var(--sklearn-color-text-on-default-background);\n",
       "  flex-grow: 1;\n",
       "}\n",
       "\n",
       "#sk-container-id-3 div.sk-parallel {\n",
       "  display: flex;\n",
       "  align-items: stretch;\n",
       "  justify-content: center;\n",
       "  background-color: var(--sklearn-color-background);\n",
       "  position: relative;\n",
       "}\n",
       "\n",
       "#sk-container-id-3 div.sk-parallel-item {\n",
       "  display: flex;\n",
       "  flex-direction: column;\n",
       "}\n",
       "\n",
       "#sk-container-id-3 div.sk-parallel-item:first-child::after {\n",
       "  align-self: flex-end;\n",
       "  width: 50%;\n",
       "}\n",
       "\n",
       "#sk-container-id-3 div.sk-parallel-item:last-child::after {\n",
       "  align-self: flex-start;\n",
       "  width: 50%;\n",
       "}\n",
       "\n",
       "#sk-container-id-3 div.sk-parallel-item:only-child::after {\n",
       "  width: 0;\n",
       "}\n",
       "\n",
       "/* Serial-specific style estimator block */\n",
       "\n",
       "#sk-container-id-3 div.sk-serial {\n",
       "  display: flex;\n",
       "  flex-direction: column;\n",
       "  align-items: center;\n",
       "  background-color: var(--sklearn-color-background);\n",
       "  padding-right: 1em;\n",
       "  padding-left: 1em;\n",
       "}\n",
       "\n",
       "\n",
       "/* Toggleable style: style used for estimator/Pipeline/ColumnTransformer box that is\n",
       "clickable and can be expanded/collapsed.\n",
       "- Pipeline and ColumnTransformer use this feature and define the default style\n",
       "- Estimators will overwrite some part of the style using the `sk-estimator` class\n",
       "*/\n",
       "\n",
       "/* Pipeline and ColumnTransformer style (default) */\n",
       "\n",
       "#sk-container-id-3 div.sk-toggleable {\n",
       "  /* Default theme specific background. It is overwritten whether we have a\n",
       "  specific estimator or a Pipeline/ColumnTransformer */\n",
       "  background-color: var(--sklearn-color-background);\n",
       "}\n",
       "\n",
       "/* Toggleable label */\n",
       "#sk-container-id-3 label.sk-toggleable__label {\n",
       "  cursor: pointer;\n",
       "  display: block;\n",
       "  width: 100%;\n",
       "  margin-bottom: 0;\n",
       "  padding: 0.5em;\n",
       "  box-sizing: border-box;\n",
       "  text-align: center;\n",
       "}\n",
       "\n",
       "#sk-container-id-3 label.sk-toggleable__label-arrow:before {\n",
       "  /* Arrow on the left of the label */\n",
       "  content: \"▸\";\n",
       "  float: left;\n",
       "  margin-right: 0.25em;\n",
       "  color: var(--sklearn-color-icon);\n",
       "}\n",
       "\n",
       "#sk-container-id-3 label.sk-toggleable__label-arrow:hover:before {\n",
       "  color: var(--sklearn-color-text);\n",
       "}\n",
       "\n",
       "/* Toggleable content - dropdown */\n",
       "\n",
       "#sk-container-id-3 div.sk-toggleable__content {\n",
       "  max-height: 0;\n",
       "  max-width: 0;\n",
       "  overflow: hidden;\n",
       "  text-align: left;\n",
       "  /* unfitted */\n",
       "  background-color: var(--sklearn-color-unfitted-level-0);\n",
       "}\n",
       "\n",
       "#sk-container-id-3 div.sk-toggleable__content.fitted {\n",
       "  /* fitted */\n",
       "  background-color: var(--sklearn-color-fitted-level-0);\n",
       "}\n",
       "\n",
       "#sk-container-id-3 div.sk-toggleable__content pre {\n",
       "  margin: 0.2em;\n",
       "  border-radius: 0.25em;\n",
       "  color: var(--sklearn-color-text);\n",
       "  /* unfitted */\n",
       "  background-color: var(--sklearn-color-unfitted-level-0);\n",
       "}\n",
       "\n",
       "#sk-container-id-3 div.sk-toggleable__content.fitted pre {\n",
       "  /* unfitted */\n",
       "  background-color: var(--sklearn-color-fitted-level-0);\n",
       "}\n",
       "\n",
       "#sk-container-id-3 input.sk-toggleable__control:checked~div.sk-toggleable__content {\n",
       "  /* Expand drop-down */\n",
       "  max-height: 200px;\n",
       "  max-width: 100%;\n",
       "  overflow: auto;\n",
       "}\n",
       "\n",
       "#sk-container-id-3 input.sk-toggleable__control:checked~label.sk-toggleable__label-arrow:before {\n",
       "  content: \"▾\";\n",
       "}\n",
       "\n",
       "/* Pipeline/ColumnTransformer-specific style */\n",
       "\n",
       "#sk-container-id-3 div.sk-label input.sk-toggleable__control:checked~label.sk-toggleable__label {\n",
       "  color: var(--sklearn-color-text);\n",
       "  background-color: var(--sklearn-color-unfitted-level-2);\n",
       "}\n",
       "\n",
       "#sk-container-id-3 div.sk-label.fitted input.sk-toggleable__control:checked~label.sk-toggleable__label {\n",
       "  background-color: var(--sklearn-color-fitted-level-2);\n",
       "}\n",
       "\n",
       "/* Estimator-specific style */\n",
       "\n",
       "/* Colorize estimator box */\n",
       "#sk-container-id-3 div.sk-estimator input.sk-toggleable__control:checked~label.sk-toggleable__label {\n",
       "  /* unfitted */\n",
       "  background-color: var(--sklearn-color-unfitted-level-2);\n",
       "}\n",
       "\n",
       "#sk-container-id-3 div.sk-estimator.fitted input.sk-toggleable__control:checked~label.sk-toggleable__label {\n",
       "  /* fitted */\n",
       "  background-color: var(--sklearn-color-fitted-level-2);\n",
       "}\n",
       "\n",
       "#sk-container-id-3 div.sk-label label.sk-toggleable__label,\n",
       "#sk-container-id-3 div.sk-label label {\n",
       "  /* The background is the default theme color */\n",
       "  color: var(--sklearn-color-text-on-default-background);\n",
       "}\n",
       "\n",
       "/* On hover, darken the color of the background */\n",
       "#sk-container-id-3 div.sk-label:hover label.sk-toggleable__label {\n",
       "  color: var(--sklearn-color-text);\n",
       "  background-color: var(--sklearn-color-unfitted-level-2);\n",
       "}\n",
       "\n",
       "/* Label box, darken color on hover, fitted */\n",
       "#sk-container-id-3 div.sk-label.fitted:hover label.sk-toggleable__label.fitted {\n",
       "  color: var(--sklearn-color-text);\n",
       "  background-color: var(--sklearn-color-fitted-level-2);\n",
       "}\n",
       "\n",
       "/* Estimator label */\n",
       "\n",
       "#sk-container-id-3 div.sk-label label {\n",
       "  font-family: monospace;\n",
       "  font-weight: bold;\n",
       "  display: inline-block;\n",
       "  line-height: 1.2em;\n",
       "}\n",
       "\n",
       "#sk-container-id-3 div.sk-label-container {\n",
       "  text-align: center;\n",
       "}\n",
       "\n",
       "/* Estimator-specific */\n",
       "#sk-container-id-3 div.sk-estimator {\n",
       "  font-family: monospace;\n",
       "  border: 1px dotted var(--sklearn-color-border-box);\n",
       "  border-radius: 0.25em;\n",
       "  box-sizing: border-box;\n",
       "  margin-bottom: 0.5em;\n",
       "  /* unfitted */\n",
       "  background-color: var(--sklearn-color-unfitted-level-0);\n",
       "}\n",
       "\n",
       "#sk-container-id-3 div.sk-estimator.fitted {\n",
       "  /* fitted */\n",
       "  background-color: var(--sklearn-color-fitted-level-0);\n",
       "}\n",
       "\n",
       "/* on hover */\n",
       "#sk-container-id-3 div.sk-estimator:hover {\n",
       "  /* unfitted */\n",
       "  background-color: var(--sklearn-color-unfitted-level-2);\n",
       "}\n",
       "\n",
       "#sk-container-id-3 div.sk-estimator.fitted:hover {\n",
       "  /* fitted */\n",
       "  background-color: var(--sklearn-color-fitted-level-2);\n",
       "}\n",
       "\n",
       "/* Specification for estimator info (e.g. \"i\" and \"?\") */\n",
       "\n",
       "/* Common style for \"i\" and \"?\" */\n",
       "\n",
       ".sk-estimator-doc-link,\n",
       "a:link.sk-estimator-doc-link,\n",
       "a:visited.sk-estimator-doc-link {\n",
       "  float: right;\n",
       "  font-size: smaller;\n",
       "  line-height: 1em;\n",
       "  font-family: monospace;\n",
       "  background-color: var(--sklearn-color-background);\n",
       "  border-radius: 1em;\n",
       "  height: 1em;\n",
       "  width: 1em;\n",
       "  text-decoration: none !important;\n",
       "  margin-left: 1ex;\n",
       "  /* unfitted */\n",
       "  border: var(--sklearn-color-unfitted-level-1) 1pt solid;\n",
       "  color: var(--sklearn-color-unfitted-level-1);\n",
       "}\n",
       "\n",
       ".sk-estimator-doc-link.fitted,\n",
       "a:link.sk-estimator-doc-link.fitted,\n",
       "a:visited.sk-estimator-doc-link.fitted {\n",
       "  /* fitted */\n",
       "  border: var(--sklearn-color-fitted-level-1) 1pt solid;\n",
       "  color: var(--sklearn-color-fitted-level-1);\n",
       "}\n",
       "\n",
       "/* On hover */\n",
       "div.sk-estimator:hover .sk-estimator-doc-link:hover,\n",
       ".sk-estimator-doc-link:hover,\n",
       "div.sk-label-container:hover .sk-estimator-doc-link:hover,\n",
       ".sk-estimator-doc-link:hover {\n",
       "  /* unfitted */\n",
       "  background-color: var(--sklearn-color-unfitted-level-3);\n",
       "  color: var(--sklearn-color-background);\n",
       "  text-decoration: none;\n",
       "}\n",
       "\n",
       "div.sk-estimator.fitted:hover .sk-estimator-doc-link.fitted:hover,\n",
       ".sk-estimator-doc-link.fitted:hover,\n",
       "div.sk-label-container:hover .sk-estimator-doc-link.fitted:hover,\n",
       ".sk-estimator-doc-link.fitted:hover {\n",
       "  /* fitted */\n",
       "  background-color: var(--sklearn-color-fitted-level-3);\n",
       "  color: var(--sklearn-color-background);\n",
       "  text-decoration: none;\n",
       "}\n",
       "\n",
       "/* Span, style for the box shown on hovering the info icon */\n",
       ".sk-estimator-doc-link span {\n",
       "  display: none;\n",
       "  z-index: 9999;\n",
       "  position: relative;\n",
       "  font-weight: normal;\n",
       "  right: .2ex;\n",
       "  padding: .5ex;\n",
       "  margin: .5ex;\n",
       "  width: min-content;\n",
       "  min-width: 20ex;\n",
       "  max-width: 50ex;\n",
       "  color: var(--sklearn-color-text);\n",
       "  box-shadow: 2pt 2pt 4pt #999;\n",
       "  /* unfitted */\n",
       "  background: var(--sklearn-color-unfitted-level-0);\n",
       "  border: .5pt solid var(--sklearn-color-unfitted-level-3);\n",
       "}\n",
       "\n",
       ".sk-estimator-doc-link.fitted span {\n",
       "  /* fitted */\n",
       "  background: var(--sklearn-color-fitted-level-0);\n",
       "  border: var(--sklearn-color-fitted-level-3);\n",
       "}\n",
       "\n",
       ".sk-estimator-doc-link:hover span {\n",
       "  display: block;\n",
       "}\n",
       "\n",
       "/* \"?\"-specific style due to the `<a>` HTML tag */\n",
       "\n",
       "#sk-container-id-3 a.estimator_doc_link {\n",
       "  float: right;\n",
       "  font-size: 1rem;\n",
       "  line-height: 1em;\n",
       "  font-family: monospace;\n",
       "  background-color: var(--sklearn-color-background);\n",
       "  border-radius: 1rem;\n",
       "  height: 1rem;\n",
       "  width: 1rem;\n",
       "  text-decoration: none;\n",
       "  /* unfitted */\n",
       "  color: var(--sklearn-color-unfitted-level-1);\n",
       "  border: var(--sklearn-color-unfitted-level-1) 1pt solid;\n",
       "}\n",
       "\n",
       "#sk-container-id-3 a.estimator_doc_link.fitted {\n",
       "  /* fitted */\n",
       "  border: var(--sklearn-color-fitted-level-1) 1pt solid;\n",
       "  color: var(--sklearn-color-fitted-level-1);\n",
       "}\n",
       "\n",
       "/* On hover */\n",
       "#sk-container-id-3 a.estimator_doc_link:hover {\n",
       "  /* unfitted */\n",
       "  background-color: var(--sklearn-color-unfitted-level-3);\n",
       "  color: var(--sklearn-color-background);\n",
       "  text-decoration: none;\n",
       "}\n",
       "\n",
       "#sk-container-id-3 a.estimator_doc_link.fitted:hover {\n",
       "  /* fitted */\n",
       "  background-color: var(--sklearn-color-fitted-level-3);\n",
       "}\n",
       "</style><div id=\"sk-container-id-3\" class=\"sk-top-container\"><div class=\"sk-text-repr-fallback\"><pre>MultiOutputRegressor(estimator=SVR())</pre><b>In a Jupyter environment, please rerun this cell to show the HTML representation or trust the notebook. <br />On GitHub, the HTML representation is unable to render, please try loading this page with nbviewer.org.</b></div><div class=\"sk-container\" hidden><div class=\"sk-item sk-dashed-wrapped\"><div class=\"sk-label-container\"><div class=\"sk-label fitted sk-toggleable\"><input class=\"sk-toggleable__control sk-hidden--visually\" id=\"sk-estimator-id-7\" type=\"checkbox\" ><label for=\"sk-estimator-id-7\" class=\"sk-toggleable__label fitted sk-toggleable__label-arrow fitted\">&nbsp;&nbsp;MultiOutputRegressor<a class=\"sk-estimator-doc-link fitted\" rel=\"noreferrer\" target=\"_blank\" href=\"https://scikit-learn.org/1.5/modules/generated/sklearn.multioutput.MultiOutputRegressor.html\">?<span>Documentation for MultiOutputRegressor</span></a><span class=\"sk-estimator-doc-link fitted\">i<span>Fitted</span></span></label><div class=\"sk-toggleable__content fitted\"><pre>MultiOutputRegressor(estimator=SVR())</pre></div> </div></div><div class=\"sk-parallel\"><div class=\"sk-parallel-item\"><div class=\"sk-item\"><div class=\"sk-label-container\"><div class=\"sk-label fitted sk-toggleable\"><input class=\"sk-toggleable__control sk-hidden--visually\" id=\"sk-estimator-id-8\" type=\"checkbox\" ><label for=\"sk-estimator-id-8\" class=\"sk-toggleable__label fitted sk-toggleable__label-arrow fitted\">estimator: SVR</label><div class=\"sk-toggleable__content fitted\"><pre>SVR()</pre></div> </div></div><div class=\"sk-serial\"><div class=\"sk-item\"><div class=\"sk-estimator fitted sk-toggleable\"><input class=\"sk-toggleable__control sk-hidden--visually\" id=\"sk-estimator-id-9\" type=\"checkbox\" ><label for=\"sk-estimator-id-9\" class=\"sk-toggleable__label fitted sk-toggleable__label-arrow fitted\">&nbsp;SVR<a class=\"sk-estimator-doc-link fitted\" rel=\"noreferrer\" target=\"_blank\" href=\"https://scikit-learn.org/1.5/modules/generated/sklearn.svm.SVR.html\">?<span>Documentation for SVR</span></a></label><div class=\"sk-toggleable__content fitted\"><pre>SVR()</pre></div> </div></div></div></div></div></div></div></div></div>"
      ],
      "text/plain": [
       "MultiOutputRegressor(estimator=SVR())"
      ]
     },
     "execution_count": 128,
     "metadata": {},
     "output_type": "execute_result"
    }
   ],
   "source": [
    "svr_model.fit(X_train, y_train)"
   ]
  },
  {
   "cell_type": "markdown",
   "id": "324fc09e-63b3-477c-8914-dd281222bd32",
   "metadata": {},
   "source": [
    "# Model Evaluation"
   ]
  },
  {
   "cell_type": "code",
   "execution_count": 129,
   "id": "6171597e-64d9-4607-8840-b699c7bf4035",
   "metadata": {},
   "outputs": [],
   "source": [
    "y_pred = svr_model.predict(X_test)"
   ]
  },
  {
   "cell_type": "code",
   "execution_count": 130,
   "id": "87d87f82-c3cb-4224-9691-8656bf123b9c",
   "metadata": {},
   "outputs": [
    {
     "data": {
      "image/png": "[encoded data removed]",
      "text/plain": [
       "<Figure size 640x480 with 1 Axes>"
      ]
     },
     "metadata": {},
     "output_type": "display_data"
    }
   ],
   "source": [
    "mae_latitude = mean_absolute_error(y_test.iloc[:, 0], y_pred[:, 0])\n",
    "mse_latitude = mean_squared_error(y_test.iloc[:, 0], y_pred[:, 0])\n",
    "\n",
    "mae_longitude = mean_absolute_error(y_test.iloc[:, 1], y_pred[:, 1])\n",
    "mse_longitude = mean_squared_error(y_test.iloc[:, 1], y_pred[:, 1])\n",
    "\n",
    "metrics = ['MAE Latitude', 'MSE Latitude', 'MAE Longitude', 'MSE Longitude']\n",
    "values = [mae_latitude, mse_latitude, mae_longitude, mse_longitude]\n",
    "\n",
    "plt.bar(metrics, values, color=['blue', 'lightblue', 'orange', 'lightcoral'])\n",
    "plt.title('Mean Absolute Error and Mean Squared Error for Latitude and Longitude')\n",
    "plt.ylabel('Error Value')\n",
    "plt.ylim(0, max(values) + 1)\n",
    "for i, v in enumerate(values):\n",
    "    plt.text(i, v + 0.1, f\"{v:.2f}\", ha='center')\n",
    "\n",
    "plt.show()"
   ]
  },
  {
   "cell_type": "markdown",
   "id": "24fd5e10-cfdd-4402-91f2-cf6d1ac2a6b3",
   "metadata": {},
   "source": [
    "# Model Prediction"
   ]
  },
  {
   "cell_type": "code",
   "execution_count": 131,
   "id": "f05a41e6-abeb-4c2a-b06d-bb26ff5f9ca2",
   "metadata": {
    "jupyter": {
     "source_hidden": true
    }
   },
   "outputs": [
    {
     "data": {
      "application/vnd.jupyter.widget-view+json": {
       "model_id": "da88ea8aeec74db889944e498e971fc7",
       "version_major": 2,
       "version_minor": 0
      },
      "text/plain": [
       "VBox(children=(HTML(value=\"<h3 style='text-align: left;'>Predicting New EV Charging Station Location</h3>\"), V…"
      ]
     },
     "metadata": {},
     "output_type": "display_data"
    }
   ],
   "source": [
    "# Function to create a custom labeled widget\n",
    "def create_labeled_widget(widget, label, alignment='left'):\n",
    "    label_html = f\"<div style='text-align: {alignment};'>{label}</div>\"\n",
    "    return widgets.VBox([widgets.HTML(value=label_html), widget])\n",
    "\n",
    "# Create input widgets with left alignment\n",
    "dropdown = create_labeled_widget(\n",
    "    widgets.Dropdown(\n",
    "        options=df_ev_charging_station['City'].unique(),\n",
    "        disabled=False,\n",
    "    ),\n",
    "    'Select a city:',\n",
    "    alignment='left'\n",
    ")\n",
    "\n",
    "postal_code_input = create_labeled_widget(\n",
    "    widgets.IntText(\n",
    "        placeholder='Enter postal code',\n",
    "        layout={'width': '300px'}\n",
    "    ),\n",
    "    'Postal_Code:',\n",
    "    alignment='left'\n",
    ")\n",
    "\n",
    "charge_stand_input = create_labeled_widget(\n",
    "    widgets.IntText(\n",
    "        placeholder='Enter total charge stands',\n",
    "        layout={'width': '300px'}\n",
    "    ),\n",
    "    'Charge_Stands:',\n",
    "    alignment='left'\n",
    ")\n",
    "\n",
    "charge_stand_count_in_city_input = create_labeled_widget(\n",
    "    widgets.IntText(\n",
    "        placeholder='Enter charge stand count',\n",
    "        layout={'width': '300px'}\n",
    "    ),\n",
    "    'Charge_Stands_City:',\n",
    "    alignment='left'\n",
    ")\n",
    "\n",
    "charge_station_in_postal_code_input = create_labeled_widget(\n",
    "    widgets.IntText(\n",
    "        placeholder='Enter charge station count',\n",
    "        layout={'width': '300px'}\n",
    "    ),\n",
    "    'Charge_Stations_Postal:',\n",
    "    alignment='left'\n",
    ")\n",
    "\n",
    "charge_station_in_city_input = create_labeled_widget(\n",
    "    widgets.IntText(\n",
    "        placeholder='Enter charge station count',\n",
    "        layout={'width': '300px'}\n",
    "    ),\n",
    "    'Charge_Stations_City:',\n",
    "    alignment='left'\n",
    ")\n",
    "\n",
    "ev_count_in_postal_code_input = create_labeled_widget(\n",
    "    widgets.IntText(\n",
    "        placeholder='Enter registered EV count',\n",
    "        layout={'width': '300px'}\n",
    "    ),\n",
    "    'EV_Count_Postal:',\n",
    "    alignment='left'\n",
    ")\n",
    "\n",
    "ev_count_in_city_input = create_labeled_widget(\n",
    "    widgets.IntText(\n",
    "        placeholder='Enter registered EV count',\n",
    "        layout={'width': '300px'}\n",
    "    ),\n",
    "    'EV_Count_City:',\n",
    "    alignment='left'\n",
    ")\n",
    "\n",
    "ev_count_in_city_within_mile_input = create_labeled_widget(\n",
    "    widgets.IntText(\n",
    "        placeholder='Enter registered EV count',\n",
    "        layout={'width': '300px'}\n",
    "    ),\n",
    "    'EV_Count_Within_Mile:',\n",
    "    alignment='left'\n",
    ")\n",
    "\n",
    "charge_station_within_mile_input = create_labeled_widget(\n",
    "    widgets.IntText(\n",
    "        placeholder='Enter charge station count',\n",
    "        layout={'width': '300px'}\n",
    "    ),\n",
    "    'Charge_Station_Within_Mile:',\n",
    "    alignment='left'\n",
    ")\n",
    "\n",
    "predict_button = widgets.Button(\n",
    "    description='Predict'\n",
    ")\n",
    "\n",
    "# Create an error message label\n",
    "error_label = widgets.Label(value=\"\", layout={'width': '300px', 'color': 'red'})\n",
    "\n",
    "output = widgets.Output()\n",
    "\n",
    "frame = widgets.VBox([\n",
    "    widgets.HTML(value=\"<h3 style='text-align: left;'>Predicting New EV Charging Station Location</h3>\"),\n",
    "    dropdown,\n",
    "    postal_code_input,\n",
    "    charge_stand_input,\n",
    "    charge_stand_count_in_city_input,\n",
    "    charge_station_in_postal_code_input,\n",
    "    charge_station_in_city_input,\n",
    "    ev_count_in_postal_code_input,\n",
    "    ev_count_in_city_input,\n",
    "    ev_count_in_city_within_mile_input,\n",
    "    charge_station_within_mile_input,\n",
    "    predict_button,\n",
    "    output\n",
    "])\n",
    "\n",
    "new_predict = pd.DataFrame(columns=X.columns)\n",
    "\n",
    "# Link the button to the prediction function\n",
    "def on_button_click(b):\n",
    "    # Gather inputs\n",
    "    city = ('City_'+dropdown.children[1].value).rstrip() # Access the dropdown value\n",
    "    postal_code = postal_code_input.children[1].value\n",
    "    charge_stands = charge_stand_input.children[1].value\n",
    "    charge_stands_city = charge_stand_count_in_city_input.children[1].value\n",
    "    charge_stations_postal = charge_station_in_postal_code_input.children[1].value\n",
    "    charge_stations_city = charge_station_in_city_input.children[1].value\n",
    "    ev_count_postal = ev_count_in_postal_code_input.children[1].value\n",
    "    ev_count_city = ev_count_in_city_input.children[1].value\n",
    "    ev_count_within_mile = ev_count_in_city_within_mile_input.children[1].value\n",
    "    charge_station_within_mile = charge_station_within_mile_input.children[1].value\n",
    "    \n",
    "    # Prepare the new DataFrame for prediction\n",
    "    new_predict.loc[0]={city:1 ,'Postal_Code':postal_code,'Charge_Stands':charge_stands,'Charge_Stands_City':charge_stands_city,\n",
    "                        'Charge_Stations_Postal':charge_stations_postal,'Charge_Stations_City':charge_stations_city,\n",
    "                        'EV_Count_City':ev_count_city,'EV_Count_Postal':ev_count_postal,'Charge_Station_Within_Mile':charge_station_within_mile,'EV_Count_Within_Mile':ev_count_within_mile\n",
    "        }\n",
    "\n",
    "    new_predict.fillna(0, inplace=True)\n",
    "    \t\t\t\t\t\t\n",
    "    # Predict using your model (replace svr_model with your actual model)\n",
    "    result = svr_model.predict(new_predict)\n",
    "    latitude = result[:, 0]\n",
    "    longitude = result[:, 1]\n",
    "    # Output the result\n",
    "    with output:\n",
    "        output.clear_output()  # Clear previous output\n",
    "        print(f\"Prediction Result: Latitude = {latitude}, Longitude = {longitude}\")\n",
    "\n",
    "\n",
    "predict_button.on_click(on_button_click)\n",
    "\n",
    "# Display the widgets\n",
    "display(frame)"
   ]
  }
 ],
 "metadata": {
  "kernelspec": {
   "display_name": "Python 3 (ipykernel)",
   "language": "python",
   "name": "python3"
  },
  "language_info": {
   "codemirror_mode": {
    "name": "ipython",
    "version": 3
   },
   "file_extension": ".py",
   "mimetype": "text/x-python",
   "name": "python",
   "nbconvert_exporter": "python",
   "pygments_lexer": "ipython3",
   "version": "3.11.3"
  }
 },
 "nbformat": 4,
 "nbformat_minor": 5
}
